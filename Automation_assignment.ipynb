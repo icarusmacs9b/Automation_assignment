{
 "cells": [
  {
   "cell_type": "markdown",
   "id": "cb6b99c2",
   "metadata": {},
   "source": [
    "### Import some required libraray"
   ]
  },
  {
   "cell_type": "code",
   "execution_count": 1,
   "id": "afe08a09",
   "metadata": {},
   "outputs": [],
   "source": [
    "import string\n",
    "import traceback\n",
    "import re\n",
    "import os\n",
    "import json\n",
    "import pickle\n",
    "import glob\n",
    "from PIL import Image\n",
    "from time import time\n",
    "\n",
    "from sklearn.model_selection import train_test_split### 1. Best company in a sector based on ROCE\n",
    "from sklearn.preprocessing import MinMaxScaler\n",
    "\n",
    "import cv2\n",
    "import numpy as np\n",
    "from numpy import array\n",
    "import pandas as pd\n",
    "import seaborn as sns\n",
    "import matplotlib.pyplot as plt\n",
    "%matplotlib inline\n",
    "\n",
    "from tensorflow import keras\n",
    "import tensorflow as tf\n",
    "import tensorflow.compat.v1\n",
    "from tensorflow.keras import backend as K\n",
    "from tensorflow.keras.datasets import mnist\n",
    "from tensorflow.keras import utils\n",
    "from keras.layers.embeddings import Embedding\n",
    "from keras.layers.merge import add\n",
    "from keras.preprocessing import image\n",
    "from keras.preprocessing.text import Tokenizer\n",
    "from keras.layers.wrappers import Bidirectional\n",
    "from keras.layers.merge import add\n",
    "from keras.applications.inception_v3 import InceptionV3\n",
    "from keras.applications.inception_v3 import preprocess_input\n",
    "from tensorflow.keras.utils import to_categorical\n",
    "from keras.preprocessing import sequence\n",
    "from keras.preprocessing.sequence import pad_sequences\n",
    "\n",
    "from tensorflow.keras.models import Model, Sequential\n",
    "from tensorflow.keras.layers import (Attention, Layer,\n",
    "                                     Add,concatenate,\n",
    "                                     Input, \n",
    "                                     Dense,  \n",
    "                                     LSTM, Bidirectional, GRU,\n",
    "                                     ZeroPadding2D, \n",
    "                                     Convolution2D, Conv2D, \n",
    "                                     GlobalAveragePooling2D, GlobalAvgPool2D, GlobalMaxPooling2D, GlobalMaxPool2D, \n",
    "                                     AveragePooling2D, AvgPool2D, MaxPooling2D, MaxPool2D,\n",
    "                                     Flatten,\n",
    "                                     BatchNormalization, \n",
    "                                     Dropout)\n",
    "\n",
    "from tensorflow.keras.layers import (Activation, \n",
    "                                     ReLU, \n",
    "                                     LeakyReLU, \n",
    "                                     Softmax)\n",
    "\n",
    "from tensorflow.keras.optimizers import (SGD,\n",
    "                                         Adam,\n",
    "                                         Adagrad,\n",
    "                                         Adadelta,\n",
    "                                         RMSprop,\n",
    "                                         Nadam)\n",
    "\n",
    "from tensorflow.keras.preprocessing.image import ImageDataGenerator, img_to_array, array_to_img, load_img\n",
    "\n",
    "# from tensorflow.keras.applications.vgg16 import VGG16\n",
    "\n",
    "from tqdm import tqdm\n",
    "from tensorflow.keras.applications.vgg16 import VGG16\n",
    "import pyphen\n",
    "import eng_to_ipa as ipa  # international phonetic aphabet"
   ]
  },
  {
   "cell_type": "markdown",
   "id": "c84df314",
   "metadata": {},
   "source": [
    "### Load the dataset"
   ]
  },
  {
   "cell_type": "code",
   "execution_count": 2,
   "id": "1e969844",
   "metadata": {},
   "outputs": [
    {
     "data": {
      "text/html": [
       "<div>\n",
       "<style scoped>\n",
       "    .dataframe tbody tr th:only-of-type {\n",
       "        vertical-align: middle;\n",
       "    }\n",
       "\n",
       "    .dataframe tbody tr th {\n",
       "        vertical-align: top;\n",
       "    }\n",
       "\n",
       "    .dataframe thead th {\n",
       "        text-align: right;\n",
       "    }\n",
       "</style>\n",
       "<table border=\"1\" class=\"dataframe\">\n",
       "  <thead>\n",
       "    <tr style=\"text-align: right;\">\n",
       "      <th></th>\n",
       "      <th>id</th>\n",
       "      <th>ROCE(%)</th>\n",
       "      <th>Income Growth(%)</th>\n",
       "      <th>Sale Growth(%)</th>\n",
       "      <th>Debt Equity Ratio</th>\n",
       "    </tr>\n",
       "  </thead>\n",
       "  <tbody>\n",
       "    <tr>\n",
       "      <th>0</th>\n",
       "      <td>1</td>\n",
       "      <td>105.502993</td>\n",
       "      <td>137.380475</td>\n",
       "      <td>-38.862170</td>\n",
       "      <td>0.493548</td>\n",
       "    </tr>\n",
       "    <tr>\n",
       "      <th>1</th>\n",
       "      <td>2</td>\n",
       "      <td>-290.386986</td>\n",
       "      <td>91.287783</td>\n",
       "      <td>-92.688491</td>\n",
       "      <td>-0.667857</td>\n",
       "    </tr>\n",
       "    <tr>\n",
       "      <th>2</th>\n",
       "      <td>3</td>\n",
       "      <td>-34.064807</td>\n",
       "      <td>-20.420386</td>\n",
       "      <td>16.818664</td>\n",
       "      <td>0.325987</td>\n",
       "    </tr>\n",
       "    <tr>\n",
       "      <th>3</th>\n",
       "      <td>4</td>\n",
       "      <td>9.708701</td>\n",
       "      <td>67.468809</td>\n",
       "      <td>-43.614209</td>\n",
       "      <td>0.432126</td>\n",
       "    </tr>\n",
       "    <tr>\n",
       "      <th>4</th>\n",
       "      <td>5</td>\n",
       "      <td>123.381079</td>\n",
       "      <td>-97.451894</td>\n",
       "      <td>29.146933</td>\n",
       "      <td>0.297247</td>\n",
       "    </tr>\n",
       "  </tbody>\n",
       "</table>\n",
       "</div>"
      ],
      "text/plain": [
       "   id     ROCE(%)  Income Growth(%)  Sale Growth(%)  Debt Equity Ratio\n",
       "0   1  105.502993        137.380475      -38.862170           0.493548\n",
       "1   2 -290.386986         91.287783      -92.688491          -0.667857\n",
       "2   3  -34.064807        -20.420386       16.818664           0.325987\n",
       "3   4    9.708701         67.468809      -43.614209           0.432126\n",
       "4   5  123.381079        -97.451894       29.146933           0.297247"
      ]
     },
     "execution_count": 2,
     "metadata": {},
     "output_type": "execute_result"
    }
   ],
   "source": [
    "df = pd.read_csv('stock_data.csv', usecols=['id', 'ROCE(%)', 'Income Growth(%)','Sale Growth(%)', 'Debt Equity Ratio'])\n",
    "df"
   ]
  },
  {
   "cell_type": "markdown",
   "id": "6a0cc23b",
   "metadata": {},
   "source": [
    "### 1. Best company in a sector based on ROCE"
   ]
  },
  {
   "cell_type": "markdown",
   "id": "be8ec47a",
   "metadata": {},
   "source": [
    "ROCE is a metric for analyzing profitability and for comparing profitability levels across companies in terms of capital. Two components are required to calculate return on capital employed: earnings before interest and tax (EBIT) and capital employed.\n",
    "\n",
    "![image](return_on_capital_employed.svg)"
   ]
  },
  {
   "cell_type": "code",
   "execution_count": 3,
   "id": "f2122813",
   "metadata": {},
   "outputs": [
    {
     "data": {
      "text/html": [
       "<div>\n",
       "<style scoped>\n",
       "    .dataframe tbody tr th:only-of-type {\n",
       "        vertical-align: middle;\n",
       "    }\n",
       "\n",
       "    .dataframe tbody tr th {\n",
       "        vertical-align: top;\n",
       "    }\n",
       "\n",
       "    .dataframe thead th {\n",
       "        text-align: right;\n",
       "    }\n",
       "</style>\n",
       "<table border=\"1\" class=\"dataframe\">\n",
       "  <thead>\n",
       "    <tr style=\"text-align: right;\">\n",
       "      <th></th>\n",
       "      <th>id</th>\n",
       "      <th>ROCE(%)</th>\n",
       "      <th>Income Growth(%)</th>\n",
       "      <th>Sale Growth(%)</th>\n",
       "      <th>Debt Equity Ratio</th>\n",
       "    </tr>\n",
       "  </thead>\n",
       "  <tbody>\n",
       "    <tr>\n",
       "      <th>6110</th>\n",
       "      <td>6111</td>\n",
       "      <td>371.215862</td>\n",
       "      <td>-107.696446</td>\n",
       "      <td>-125.083064</td>\n",
       "      <td>0.107304</td>\n",
       "    </tr>\n",
       "  </tbody>\n",
       "</table>\n",
       "</div>"
      ],
      "text/plain": [
       "        id     ROCE(%)  Income Growth(%)  Sale Growth(%)  Debt Equity Ratio\n",
       "6110  6111  371.215862       -107.696446     -125.083064           0.107304"
      ]
     },
     "execution_count": 3,
     "metadata": {},
     "output_type": "execute_result"
    }
   ],
   "source": [
    "df.loc[df['ROCE(%)'] == df['ROCE(%)'].max()]"
   ]
  },
  {
   "cell_type": "markdown",
   "id": "4b1f71c6",
   "metadata": {},
   "source": [
    "IN our dataset the company whach id is 6111 has the highest value of ROCE, means this is the best company on the basis of ROCE(%)"
   ]
  },
  {
   "cell_type": "markdown",
   "id": "0112b7fe",
   "metadata": {},
   "source": [
    "### 2. Best company in a sector based on Income Growth(%)"
   ]
  },
  {
   "cell_type": "code",
   "execution_count": 4,
   "id": "9619ea44",
   "metadata": {},
   "outputs": [
    {
     "data": {
      "text/html": [
       "<div>\n",
       "<style scoped>\n",
       "    .dataframe tbody tr th:only-of-type {\n",
       "        vertical-align: middle;\n",
       "    }\n",
       "\n",
       "    .dataframe tbody tr th {\n",
       "        vertical-align: top;\n",
       "    }\n",
       "\n",
       "    .dataframe thead th {\n",
       "        text-align: right;\n",
       "    }\n",
       "</style>\n",
       "<table border=\"1\" class=\"dataframe\">\n",
       "  <thead>\n",
       "    <tr style=\"text-align: right;\">\n",
       "      <th></th>\n",
       "      <th>id</th>\n",
       "      <th>ROCE(%)</th>\n",
       "      <th>Income Growth(%)</th>\n",
       "      <th>Sale Growth(%)</th>\n",
       "      <th>Debt Equity Ratio</th>\n",
       "    </tr>\n",
       "  </thead>\n",
       "  <tbody>\n",
       "    <tr>\n",
       "      <th>2825</th>\n",
       "      <td>2826</td>\n",
       "      <td>51.354878</td>\n",
       "      <td>328.682196</td>\n",
       "      <td>8.440808</td>\n",
       "      <td>0.1922</td>\n",
       "    </tr>\n",
       "  </tbody>\n",
       "</table>\n",
       "</div>"
      ],
      "text/plain": [
       "        id    ROCE(%)  Income Growth(%)  Sale Growth(%)  Debt Equity Ratio\n",
       "2825  2826  51.354878        328.682196        8.440808             0.1922"
      ]
     },
     "execution_count": 4,
     "metadata": {},
     "output_type": "execute_result"
    }
   ],
   "source": [
    "df.loc[df['Income Growth(%)'] == df['Income Growth(%)'].max()]"
   ]
  },
  {
   "cell_type": "markdown",
   "id": "ded346c5",
   "metadata": {},
   "source": [
    "IN our dataset the company whach id is 2826 has the highest value of Income growth, means this is the best company on the basis of Income Growth(%)"
   ]
  },
  {
   "cell_type": "markdown",
   "id": "fe3c6de7",
   "metadata": {},
   "source": [
    "### 3. Best company in a sector based on Sale Growth(%)"
   ]
  },
  {
   "cell_type": "code",
   "execution_count": 5,
   "id": "119fc80e",
   "metadata": {},
   "outputs": [
    {
     "data": {
      "text/html": [
       "<div>\n",
       "<style scoped>\n",
       "    .dataframe tbody tr th:only-of-type {\n",
       "        vertical-align: middle;\n",
       "    }\n",
       "\n",
       "    .dataframe tbody tr th {\n",
       "        vertical-align: top;\n",
       "    }\n",
       "\n",
       "    .dataframe thead th {\n",
       "        text-align: right;\n",
       "    }\n",
       "</style>\n",
       "<table border=\"1\" class=\"dataframe\">\n",
       "  <thead>\n",
       "    <tr style=\"text-align: right;\">\n",
       "      <th></th>\n",
       "      <th>id</th>\n",
       "      <th>ROCE(%)</th>\n",
       "      <th>Income Growth(%)</th>\n",
       "      <th>Sale Growth(%)</th>\n",
       "      <th>Debt Equity Ratio</th>\n",
       "    </tr>\n",
       "  </thead>\n",
       "  <tbody>\n",
       "    <tr>\n",
       "      <th>4163</th>\n",
       "      <td>4164</td>\n",
       "      <td>-40.87505</td>\n",
       "      <td>-138.832515</td>\n",
       "      <td>362.967583</td>\n",
       "      <td>-0.347628</td>\n",
       "    </tr>\n",
       "  </tbody>\n",
       "</table>\n",
       "</div>"
      ],
      "text/plain": [
       "        id   ROCE(%)  Income Growth(%)  Sale Growth(%)  Debt Equity Ratio\n",
       "4163  4164 -40.87505       -138.832515      362.967583          -0.347628"
      ]
     },
     "execution_count": 5,
     "metadata": {},
     "output_type": "execute_result"
    }
   ],
   "source": [
    "df.loc[df['Sale Growth(%)'] == df['Sale Growth(%)'].max()]"
   ]
  },
  {
   "cell_type": "markdown",
   "id": "14b162c6",
   "metadata": {},
   "source": [
    "IN our dataset the company whach id is 4164 has the highest value of Sale Growth(%), means this is the best company on the basis of Sale Growth(%)"
   ]
  },
  {
   "cell_type": "markdown",
   "id": "c54bb741",
   "metadata": {},
   "source": [
    "### 4. Best company in a sector based on Debt Equity Ratio"
   ]
  },
  {
   "cell_type": "code",
   "execution_count": 6,
   "id": "424d6b80",
   "metadata": {},
   "outputs": [
    {
     "data": {
      "text/html": [
       "<div>\n",
       "<style scoped>\n",
       "    .dataframe tbody tr th:only-of-type {\n",
       "        vertical-align: middle;\n",
       "    }\n",
       "\n",
       "    .dataframe tbody tr th {\n",
       "        vertical-align: top;\n",
       "    }\n",
       "\n",
       "    .dataframe thead th {\n",
       "        text-align: right;\n",
       "    }\n",
       "</style>\n",
       "<table border=\"1\" class=\"dataframe\">\n",
       "  <thead>\n",
       "    <tr style=\"text-align: right;\">\n",
       "      <th></th>\n",
       "      <th>id</th>\n",
       "      <th>ROCE(%)</th>\n",
       "      <th>Income Growth(%)</th>\n",
       "      <th>Sale Growth(%)</th>\n",
       "      <th>Debt Equity Ratio</th>\n",
       "    </tr>\n",
       "  </thead>\n",
       "  <tbody>\n",
       "    <tr>\n",
       "      <th>118</th>\n",
       "      <td>119</td>\n",
       "      <td>166.2318</td>\n",
       "      <td>45.854283</td>\n",
       "      <td>28.219699</td>\n",
       "      <td>0.499634</td>\n",
       "    </tr>\n",
       "  </tbody>\n",
       "</table>\n",
       "</div>"
      ],
      "text/plain": [
       "      id   ROCE(%)  Income Growth(%)  Sale Growth(%)  Debt Equity Ratio\n",
       "118  119  166.2318         45.854283       28.219699           0.499634"
      ]
     },
     "execution_count": 6,
     "metadata": {},
     "output_type": "execute_result"
    }
   ],
   "source": [
    "df.loc[df['Debt Equity Ratio'] == df['Debt Equity Ratio'].max()]"
   ]
  },
  {
   "cell_type": "markdown",
   "id": "33f91d1a",
   "metadata": {},
   "source": [
    "IN our dataset the company whach id is 119 has the highest value of Sale Growth(%), means this is the best company on the basis of Sale Growth(%)"
   ]
  },
  {
   "cell_type": "markdown",
   "id": "acb07c49",
   "metadata": {},
   "source": [
    "### 5. Best company in a sector based on ROCE(%), Income Growth(%), Sale Growth(%), Debt Equity Ratio"
   ]
  },
  {
   "cell_type": "markdown",
   "id": "9a993723",
   "metadata": {},
   "source": [
    "#### 5.1 Normalize the dataset"
   ]
  },
  {
   "cell_type": "markdown",
   "id": "95d2b96d",
   "metadata": {},
   "source": [
    "Min Max converts every value of a column into a number between 0 and 1."
   ]
  },
  {
   "cell_type": "code",
   "execution_count": 7,
   "id": "203c01ee",
   "metadata": {},
   "outputs": [],
   "source": [
    "scaller = MinMaxScaler() \n",
    "np.array(df)\n",
    "scalled_data = scaller.fit_transform(df.iloc[:, 1:])\n",
    "scalled_data = pd.DataFrame(scalled_data, columns = df.columns[1:])\n",
    "scalled_data['id'] = df['id']"
   ]
  },
  {
   "cell_type": "code",
   "execution_count": 8,
   "id": "31e48866",
   "metadata": {},
   "outputs": [
    {
     "data": {
      "text/plain": [
       "(ROCE(%)              1.0\n",
       " Income Growth(%)     1.0\n",
       " Sale Growth(%)       1.0\n",
       " Debt Equity Ratio    1.0\n",
       " dtype: float64,\n",
       " ROCE(%)              0.0\n",
       " Income Growth(%)     0.0\n",
       " Sale Growth(%)       0.0\n",
       " Debt Equity Ratio    0.0\n",
       " dtype: float64)"
      ]
     },
     "execution_count": 8,
     "metadata": {},
     "output_type": "execute_result"
    }
   ],
   "source": [
    "scalled_data.iloc[:, 0:-1].max(), scalled_data.iloc[:, 0:-1].min()"
   ]
  },
  {
   "cell_type": "markdown",
   "id": "5d57b1b0",
   "metadata": {},
   "source": [
    "After scalling we can see that every column has the maximum value of 1 and minimum value of 0\n",
    "\n",
    "\n",
    "Best company should be that company which have high value in every field, so lets find that company which satisfy this condition. let's sum every value of each company. The best company should have the highest value"
   ]
  },
  {
   "cell_type": "code",
   "execution_count": 9,
   "id": "5e5e84a7",
   "metadata": {},
   "outputs": [
    {
     "data": {
      "text/html": [
       "<div>\n",
       "<style scoped>\n",
       "    .dataframe tbody tr th:only-of-type {\n",
       "        vertical-align: middle;\n",
       "    }\n",
       "\n",
       "    .dataframe tbody tr th {\n",
       "        vertical-align: top;\n",
       "    }\n",
       "\n",
       "    .dataframe thead th {\n",
       "        text-align: right;\n",
       "    }\n",
       "</style>\n",
       "<table border=\"1\" class=\"dataframe\">\n",
       "  <thead>\n",
       "    <tr style=\"text-align: right;\">\n",
       "      <th></th>\n",
       "      <th>ROCE(%)</th>\n",
       "      <th>Income Growth(%)</th>\n",
       "      <th>Sale Growth(%)</th>\n",
       "      <th>Debt Equity Ratio</th>\n",
       "      <th>id</th>\n",
       "    </tr>\n",
       "  </thead>\n",
       "  <tbody>\n",
       "    <tr>\n",
       "      <th>610</th>\n",
       "      <td>0.663473</td>\n",
       "      <td>0.900839</td>\n",
       "      <td>0.79237</td>\n",
       "      <td>0.945551</td>\n",
       "      <td>611</td>\n",
       "    </tr>\n",
       "  </tbody>\n",
       "</table>\n",
       "</div>"
      ],
      "text/plain": [
       "      ROCE(%)  Income Growth(%)  Sale Growth(%)  Debt Equity Ratio   id\n",
       "610  0.663473          0.900839         0.79237           0.945551  611"
      ]
     },
     "execution_count": 9,
     "metadata": {},
     "output_type": "execute_result"
    }
   ],
   "source": [
    "max_val = np.max(np.sum(scalled_data.iloc[:, 0:-1].values, axis=1))\n",
    "output_record = scalled_data.loc[np.sum(scalled_data.iloc[:, 0:-1].values, axis=1) == max_val]\n",
    "output_record"
   ]
  },
  {
   "cell_type": "markdown",
   "id": "826838c7",
   "metadata": {},
   "source": [
    "Now, We get the data of that company which is best company based on ROCE(%), Income Growth(%), Sale Growth(%), Debt Equity Ratio\n",
    "\n",
    "But, This data is not the original data, We found the data in a scalled dataset to get the in a original format we have to fetch the record from the original dataframe which has the company id same as the scalled table output"
   ]
  },
  {
   "cell_type": "code",
   "execution_count": 10,
   "id": "5bc2e30a",
   "metadata": {},
   "outputs": [
    {
     "data": {
      "text/html": [
       "<div>\n",
       "<style scoped>\n",
       "    .dataframe tbody tr th:only-of-type {\n",
       "        vertical-align: middle;\n",
       "    }\n",
       "\n",
       "    .dataframe tbody tr th {\n",
       "        vertical-align: top;\n",
       "    }\n",
       "\n",
       "    .dataframe thead th {\n",
       "        text-align: right;\n",
       "    }\n",
       "</style>\n",
       "<table border=\"1\" class=\"dataframe\">\n",
       "  <thead>\n",
       "    <tr style=\"text-align: right;\">\n",
       "      <th></th>\n",
       "      <th>id</th>\n",
       "      <th>ROCE(%)</th>\n",
       "      <th>Income Growth(%)</th>\n",
       "      <th>Sale Growth(%)</th>\n",
       "      <th>Debt Equity Ratio</th>\n",
       "    </tr>\n",
       "  </thead>\n",
       "  <tbody>\n",
       "    <tr>\n",
       "      <th>610</th>\n",
       "      <td>611</td>\n",
       "      <td>133.39394</td>\n",
       "      <td>257.650889</td>\n",
       "      <td>191.964885</td>\n",
       "      <td>0.418008</td>\n",
       "    </tr>\n",
       "  </tbody>\n",
       "</table>\n",
       "</div>"
      ],
      "text/plain": [
       "      id    ROCE(%)  Income Growth(%)  Sale Growth(%)  Debt Equity Ratio\n",
       "610  611  133.39394        257.650889      191.964885           0.418008"
      ]
     },
     "execution_count": 10,
     "metadata": {},
     "output_type": "execute_result"
    }
   ],
   "source": [
    "df.loc[df['id'] == int(output_record['id'])]"
   ]
  },
  {
   "cell_type": "markdown",
   "id": "1ee58494",
   "metadata": {},
   "source": [
    "This is the required result, The company which id is 611 is the best company in a sector based on ROCE(%), Income Growth(%), Sale Growth(%), Debt Equity Ratio"
   ]
  },
  {
   "cell_type": "code",
   "execution_count": null,
   "id": "8c8800e3",
   "metadata": {},
   "outputs": [],
   "source": []
  }
 ],
 "metadata": {
  "kernelspec": {
   "display_name": "Python 3",
   "language": "python",
   "name": "python3"
  },
  "language_info": {
   "codemirror_mode": {
    "name": "ipython",
    "version": 3
   },
   "file_extension": ".py",
   "mimetype": "text/x-python",
   "name": "python",
   "nbconvert_exporter": "python",
   "pygments_lexer": "ipython3",
   "version": "3.8.11"
  }
 },
 "nbformat": 4,
 "nbformat_minor": 5
}
